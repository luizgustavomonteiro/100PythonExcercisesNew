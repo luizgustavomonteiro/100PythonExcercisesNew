{
  "nbformat": 4,
  "nbformat_minor": 0,
  "metadata": {
    "colab": {
      "provenance": [],
      "toc_visible": true,
      "authorship_tag": "ABX9TyPUa7kbyvlRJNsou0tHiWgV",
      "include_colab_link": true
    },
    "kernelspec": {
      "name": "python3",
      "display_name": "Python 3"
    },
    "language_info": {
      "name": "python"
    }
  },
  "cells": [
    {
      "cell_type": "markdown",
      "metadata": {
        "id": "view-in-github",
        "colab_type": "text"
      },
      "source": [
        "<a href=\"https://colab.research.google.com/github/luizgustavomonteiro/100PythonExcercisesNew/blob/main/100Excercises.ipynb\" target=\"_parent\"><img src=\"https://colab.research.google.com/assets/colab-badge.svg\" alt=\"Open In Colab\"/></a>"
      ]
    },
    {
      "cell_type": "code",
      "source": [
        "\n",
        "import math as mat"
      ],
      "metadata": {
        "id": "EalJDP2_LsFU"
      },
      "execution_count": null,
      "outputs": []
    },
    {
      "cell_type": "markdown",
      "source": [
        "**1 - Write a program that watch the message 'Hello Word'**"
      ],
      "metadata": {
        "id": "xPlBSl_4KmoL"
      }
    },
    {
      "cell_type": "code",
      "source": [
        "print(\"Hello Word!\")"
      ],
      "metadata": {
        "colab": {
          "base_uri": "https://localhost:8080/"
        },
        "id": "MXecN_rkKlvO",
        "outputId": "9c72a5ec-7866-4e92-f296-c36c9ba02a40"
      },
      "execution_count": null,
      "outputs": [
        {
          "output_type": "stream",
          "name": "stdout",
          "text": [
            "Hello Word!\n"
          ]
        }
      ]
    },
    {
      "cell_type": "markdown",
      "source": [
        "**2 - Write a program that ask a number and the diplays the messagem 'The number entedered was [number].**"
      ],
      "metadata": {
        "id": "1tXFwEH5LTkX"
      }
    },
    {
      "cell_type": "code",
      "execution_count": null,
      "metadata": {
        "colab": {
          "base_uri": "https://localhost:8080/"
        },
        "id": "JGAp1wc8KSmW",
        "outputId": "fc594dfe-3470-4915-ba26-d35a7099ef60"
      },
      "outputs": [
        {
          "output_type": "stream",
          "name": "stdout",
          "text": [
            "Write the number: 5\n",
            "The number entered was 5\n"
          ]
        }
      ],
      "source": [
        "number = input(\"Write the number: \")\n",
        "print (\"The number entered was\", number)"
      ]
    },
    {
      "cell_type": "markdown",
      "source": [
        "**3 - Write a program that as two numbers and the display printer the sum:**"
      ],
      "metadata": {
        "id": "BzlN7kpP9NoH"
      }
    },
    {
      "cell_type": "code",
      "source": [
        "numberOne = float (input(\"Write the number one, please: \"))\n",
        "numberTwo = float (input(\"Write the second two, please: \"))\n",
        "\n",
        "sum = numberOne + numberTwo\n",
        "\n",
        "print(\"The sum is: \", sum)"
      ],
      "metadata": {
        "colab": {
          "base_uri": "https://localhost:8080/"
        },
        "id": "tPxObOeB9Lfj",
        "outputId": "9c2de27c-3f04-4040-b111-7a52b88be88b"
      },
      "execution_count": null,
      "outputs": [
        {
          "output_type": "stream",
          "name": "stdout",
          "text": [
            "Write the number one, please: 5\n",
            "Write the second two, please: 6\n",
            "The sum is:  11.0\n"
          ]
        }
      ]
    },
    {
      "cell_type": "markdown",
      "source": [
        "**4-Write a program that as four notes bimestral, calculate the media and display printer the result.**"
      ],
      "metadata": {
        "id": "_bUb4o2J-fKy"
      }
    },
    {
      "cell_type": "code",
      "source": [
        "\n",
        "firstNote = float (input(\"Write the first note of the student: \"))\n",
        "secondNote = float (input(\"Write the second note of the student:\"))\n",
        "thirtNote = float (input(\"Write the thirt note of the student: \"))\n",
        "fourthNote = float (input(\"Write the fourth note of the student: \"))\n",
        "\n",
        "sum = firstNote + secondNote + thirtNote + fourthNote\n",
        "media = sum/4\n",
        "\n",
        "print(\"The media of the student this: \", media)\n"
      ],
      "metadata": {
        "colab": {
          "base_uri": "https://localhost:8080/"
        },
        "id": "-ViGOt4D_hKS",
        "outputId": "4aa28ef8-7f41-4421-dac3-e2f97de63222"
      },
      "execution_count": null,
      "outputs": [
        {
          "output_type": "stream",
          "name": "stdout",
          "text": [
            "Write the first note of the student: 5\n",
            "Write the second note of the student:6\n",
            "Write the thirt note of the student: 4\n",
            "Write the fourth note of the student: 8\n",
            "The media of the student this:  5.75\n"
          ]
        }
      ]
    },
    {
      "cell_type": "markdown",
      "source": [
        "**5 - Write a program that convert meters to centimeters**\n"
      ],
      "metadata": {
        "id": "JZ_p7xF8BYm8"
      }
    },
    {
      "cell_type": "code",
      "source": [
        "valueMeters = float(input(\"Digite o valor em metros: \"))\n",
        "\n",
        "convertMeterToCentimeter = valueMeters * 100\n",
        "\n",
        "print(f\"The convertion meter to centimeter is: {convertMeterToCentimeter} cm\")\n"
      ],
      "metadata": {
        "colab": {
          "base_uri": "https://localhost:8080/"
        },
        "id": "Lexaaj1RIO3M",
        "outputId": "b4f6482b-3f97-46ed-ef71-b39359eaf62a"
      },
      "execution_count": null,
      "outputs": [
        {
          "output_type": "stream",
          "name": "stdout",
          "text": [
            "Digite o valor em metros: 4\n",
            "The convertion meter to centimeter is: 400.0 cm\n"
          ]
        }
      ]
    },
    {
      "cell_type": "markdown",
      "source": [
        "**6 - Write a program that asks the radiu of a circle, calculate and display its area**\n"
      ],
      "metadata": {
        "id": "w58qo8JdQWZB"
      }
    },
    {
      "cell_type": "code",
      "source": [
        "radiu = float(input(\"Write the radiu of the circle: \"))\n",
        "area = mat.pi * (radiu ** 2)\n",
        "area_rounded = round(area, 2)\n",
        "\n",
        "print(\"The area of the circle wich radiu\" , radiu, \"is \", area, \"m\")\n"
      ],
      "metadata": {
        "colab": {
          "base_uri": "https://localhost:8080/"
        },
        "id": "ZnXuutnEPevT",
        "outputId": "aac77020-b4b5-4633-ab03-0fa6a58e1338"
      },
      "execution_count": null,
      "outputs": [
        {
          "output_type": "stream",
          "name": "stdout",
          "text": [
            "Write the radiu of the circle: 5\n",
            "The area of the circle wich radiu 5.0 is  78.53981633974483 m\n"
          ]
        }
      ]
    },
    {
      "cell_type": "markdown",
      "source": [
        "**7 - Write a program that calculates the area of a square, then shows twice this area to the user**"
      ],
      "metadata": {
        "id": "UnavTw0xVhfh"
      }
    },
    {
      "cell_type": "code",
      "source": [
        "squareValue = float(input(\"Enter the value the one side of the square: \"))\n",
        "\n",
        "areaSquare = squareValue * squareValue\n",
        "twiceSquareValue = areaSquare * 2\n",
        "\n",
        "print(f\"The area square is: {areaSquare} and \")\n",
        "print(f\"The twice of the area square is: {twiceSquareValue} m\")"
      ],
      "metadata": {
        "colab": {
          "base_uri": "https://localhost:8080/"
        },
        "id": "LOmE9EQlVaxk",
        "outputId": "8ea01b6d-c2f9-49c8-fef9-db6a51110e26"
      },
      "execution_count": null,
      "outputs": [
        {
          "output_type": "stream",
          "name": "stdout",
          "text": [
            "Enter the value the one side of the square: 5\n",
            "The area square is: 25.0 and \n",
            "The twice of the area square is: 50.0 m\n"
          ]
        }
      ]
    },
    {
      "cell_type": "markdown",
      "source": [
        "**8 - Write a program that asks how much your earn per hour and number of hours workded in the month. Calculate and show the salary for month**\n"
      ],
      "metadata": {
        "id": "E-DvOMrkXJmO"
      }
    },
    {
      "cell_type": "code",
      "source": [],
      "metadata": {
        "id": "syZaP-lMYKPl"
      },
      "execution_count": null,
      "outputs": []
    },
    {
      "cell_type": "code",
      "source": [
        "askPerHour = float(input(\"How much is your received per hour, please: \"))\n",
        "print(askPerHour)\n",
        "\n",
        "askPerMonth = float(input(\"How much is number of hours that your worked per month: \"))\n",
        "print(askPerMonth)\n",
        "\n",
        "totalCalc = askPerMonth * askPerHour\n",
        "\n",
        "print(f\"The total value that your received per month is: $\", totalCalc)\n",
        "\n",
        "\n"
      ],
      "metadata": {
        "colab": {
          "base_uri": "https://localhost:8080/"
        },
        "id": "VGmUlgqzYM_5",
        "outputId": "2e0bdf9c-3947-42d1-ddc0-befb21ad5f53"
      },
      "execution_count": null,
      "outputs": [
        {
          "output_type": "stream",
          "name": "stdout",
          "text": [
            "How much is your received per hour, please: 10\n",
            "10.0\n",
            "How much is number of hours that your worked per month: 200\n",
            "200.0\n",
            "The total value that your received per month is: $ 2000.0\n"
          ]
        }
      ]
    },
    {
      "cell_type": "markdown",
      "source": [
        "**9 - **10 - Write a prgram that asks the temperature in Fahrenheit and convert in Celsius**\n"
      ],
      "metadata": {
        "id": "ZTCB4nvaaatE"
      }
    },
    {
      "cell_type": "code",
      "source": [
        "valueInFahrenheit= float(input(\"Enter wich the value in Fahrenheit: \"))\n",
        "\n",
        "convertToCelsius = (5 * (valueInFahrenheit-9) - 32)\n",
        "\n",
        "print(\"The valor in Celsius is: {:.3f} C\".format(convertToCelsius))\n"
      ],
      "metadata": {
        "colab": {
          "base_uri": "https://localhost:8080/"
        },
        "id": "jk5BvJECbEAw",
        "outputId": "a55f9c6d-703f-4926-fa04-2e38cd27b452"
      },
      "execution_count": null,
      "outputs": [
        {
          "output_type": "stream",
          "name": "stdout",
          "text": [
            "Enter wich the value in Fahrenheit: 10\n",
            "The valor in Celsius is: -27.000 C\n"
          ]
        }
      ]
    },
    {
      "cell_type": "markdown",
      "source": [
        "**10 - Write a prgram that asks the temperature in Celsius and convert in Fahrenheit**"
      ],
      "metadata": {
        "id": "CVlOUD8Gds9Z"
      }
    },
    {
      "cell_type": "code",
      "source": [
        "valueInCelsius = float(input(\"Enter wich the value in Celius: \"))\n",
        "\n",
        "convertToFahrenheit = valueInCelsius * 1.8 + 32\n",
        "\n",
        "print(f\"The value in Fahrenheit is: {convertToFahrenheit:.2f}\")"
      ],
      "metadata": {
        "colab": {
          "base_uri": "https://localhost:8080/"
        },
        "id": "6AaCk2v6eAzy",
        "outputId": "385dfda6-23cb-4f85-9122-0fe0ceda7eaa"
      },
      "execution_count": null,
      "outputs": [
        {
          "output_type": "stream",
          "name": "stdout",
          "text": [
            "Enter wich the value in Celius: 32.22\n",
            "The value in Fahrenheit is: 90.00\n"
          ]
        }
      ]
    },
    {
      "cell_type": "markdown",
      "source": [
        "**11 - Write a program that asks three numbers, two intereger and one real.\n",
        "<br>Calculate:**\n",
        "<br> a) The product of twice the first and half the second.\n",
        "<br> b) The sum of triple the first wich third.\n",
        "<br> c) The third raised of the cube.\n",
        "\n"
      ],
      "metadata": {
        "id": "jK7QrTTfgCxx"
      }
    },
    {
      "cell_type": "code",
      "source": [
        "firstNumber = int(input(\"Enter with the first number: \"))\n",
        "secondNumber = int(input(\"Enter with the second number: \"))\n",
        "thirtNumber = float(input(\"Enter with the thirt number: \"))\n",
        "\n",
        "#a)The product of twice the frit and half the second.\n",
        "twiceFirst = firstNumber * firstNumber\n",
        "halfSecond = secondNumber / 2\n",
        "productTwFirstWiHalSecond = twiceFirst * halfSecond\n",
        "\n",
        "#b) The sum of triple the first wich third.\n",
        "sumTripleFirstwichThird = (3 * firstNumber ) + (thirtNumber)\n",
        "\n",
        "#c)The third raised of the cube.\n",
        "thirtRaisedCube = thirtNumber **3\n",
        "\n",
        "print(f\"The produt of twice the first and half the second is: {productTwFirstWiHalSecond }\")\n",
        "print(f\"The sum of triple the first wich third is: {sumTripleFirstwichThird}\")\n",
        "print(f\"The third raised of the cube is: {thirtRaisedCube}\")\n",
        "\n",
        "\n"
      ],
      "metadata": {
        "colab": {
          "base_uri": "https://localhost:8080/"
        },
        "id": "K7lJGWmshsK6",
        "outputId": "aabaa033-e419-4540-aab8-ede59446947f"
      },
      "execution_count": null,
      "outputs": [
        {
          "output_type": "stream",
          "name": "stdout",
          "text": [
            "Enter with the first number: 5\n",
            "Enter with the second number: 6\n",
            "Enter with the thirt number: 7\n",
            "The produt of twice the first and half the second is: 75.0\n",
            "The sum of triple the first wich third is: 22.0\n",
            "The third raised of the cube is: 343.0\n"
          ]
        }
      ]
    },
    {
      "cell_type": "markdown",
      "source": [
        "**12 - having input data weight of the a person. Build a program  that calculates of the ideal height of the one person which the equation (72.7*altura) - 58**"
      ],
      "metadata": {
        "id": "S5vzEceuk8l0"
      }
    },
    {
      "cell_type": "code",
      "source": [
        "height = float (input(\"Enter which your height, please: \"))\n",
        "equationWeight = (72.7* height) - 58\n",
        "\n",
        "print(\"The your ideal weight needs to be: {} kg\".format(equationWeight))"
      ],
      "metadata": {
        "colab": {
          "base_uri": "https://localhost:8080/"
        },
        "id": "qBhBu-SrmhvV",
        "outputId": "84667780-262f-4c89-9210-a85661d2ac6a"
      },
      "execution_count": null,
      "outputs": [
        {
          "output_type": "stream",
          "name": "stdout",
          "text": [
            "Enter which your weight, please: 1.72\n",
            "The your ideal height needs to be: 67.044 kg\n"
          ]
        }
      ]
    },
    {
      "cell_type": "markdown",
      "source": [
        "**13 - Having input data the height, build the algorithm that calculate the ideal weight of the person using the following equations:**\n",
        "\n",
        "<b> A) - for men (72.7*h)-58\n",
        "\n",
        "<b> B) - for woman (62.1*h) - 44.7\n",
        "\n",
        "\n",
        "\n"
      ],
      "metadata": {
        "id": "naxI9hXpn6Kl"
      }
    },
    {
      "cell_type": "code",
      "source": [
        "height = float (input(\"Enter which your height, please: \"))\n",
        "\n",
        "menOrWoman = input(\"What is your gender:\\n write M or F:\\n\")\n",
        "\n",
        "if menOrWoman ==\"M\":\n",
        "      calcforMen = (72.7*height) - 58\n",
        "      print(f\"Your ideal weight is: {calcforMen:.2f}\")\n",
        "elif menOrWoman == \"F\":\n",
        "      calcforWoman = (62.1*height) - 44.7\n",
        "      print(f\"Your ideal weight is: {calcforWoman:.2f}\")\n",
        "else:\n",
        "      print(\"Opss: Try again \")\n",
        "\n",
        "\n"
      ],
      "metadata": {
        "colab": {
          "base_uri": "https://localhost:8080/"
        },
        "id": "TQOpb0g_sO5T",
        "outputId": "5c9ad82f-d9a3-4245-8465-49341db037fe"
      },
      "execution_count": null,
      "outputs": [
        {
          "output_type": "stream",
          "name": "stdout",
          "text": [
            "Enter which your height, please: 1.70\n",
            "What is your gender:\n",
            " write M or F:\n",
            "F\n",
            "Your ideal weight is: 60.87\n"
          ]
        }
      ]
    },
    {
      "cell_type": "markdown",
      "source": [
        "**14 - Jhon bought a microcomputer to control is daily work output. Every time he brings a weight of fish greater than that established by the fishing regulations of the state of São Paulo (50 kilos) he must pay a fine of $4.00 per excess kilo. Jhon needs a program that reads the weight variable (fish weight) and calculates the excess. Record in the excess variable the number of kilos beyond the limit and in the fine variable the amount of the fine that João must pay. Print program data with appropriate messages.**"
      ],
      "metadata": {
        "id": "E5gVtKxtwo0i"
      }
    },
    {
      "cell_type": "code",
      "source": [
        "weight = float(input(\"Enter which weight to fish: \"))\n",
        "EXCESS_WEIGHT = 50\n",
        "\n",
        "if weight > EXCESS_WEIGHT :\n",
        "  calc = weight - EXCESS_WEIGHT\n",
        "  multForExc = calc * 4\n",
        "  print(f\"Your weight exceeded in {calc} kg and you need pay $ {multForExc} for weight exceeded. \")\n",
        "else :\n",
        "  print(\"Your weight is within the permitted range!\")"
      ],
      "metadata": {
        "colab": {
          "base_uri": "https://localhost:8080/"
        },
        "id": "sCHX7TGtyH1L",
        "outputId": "e515cbac-5f2a-4d10-adc5-c8f407ebc7b2"
      },
      "execution_count": null,
      "outputs": [
        {
          "output_type": "stream",
          "name": "stdout",
          "text": [
            "Enter which weight to fish: 57\n",
            "Your weight exceeded in 7.0 kg and you need pay $ 28.0 for weight exceeded. \n"
          ]
        }
      ]
    },
    {
      "cell_type": "markdown",
      "source": [],
      "metadata": {
        "id": "_F74OE8e1Zpj"
      }
    }
  ]
}